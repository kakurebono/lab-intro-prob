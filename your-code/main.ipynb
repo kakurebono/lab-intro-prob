{
 "cells": [
  {
   "cell_type": "markdown",
   "metadata": {},
   "source": [
    "# Introduction To Probability\n",
    "## Challenge 1\n",
    "\n",
    "A and B are events of a probability space with $(\\omega, \\sigma, P)$ such that $P(A) = 0.3$, $P(B) = 0.6$ and $P(A \\cap B) = 0.1$\n",
    "\n",
    "Which of the following statements are false?\n",
    "* $P(A \\cup B) = 0.6$\n",
    "* $P(A \\cap B^{C}) = 0.2$\n",
    "* $P(A \\cap (B \\cup B^{C})) = 0.4$\n",
    "* $P(A^{C} \\cap B^{C}) = 0.3$\n",
    "* $P((A \\cap B)^{C}) = 0.9$"
   ]
  },
  {
   "cell_type": "code",
   "execution_count": 7,
   "metadata": {},
   "outputs": [
    {
     "data": {
      "text/plain": [
       "'\\nQ1:\\n\\n\\nQ2:\\n\\nP(A)-(ANB) = 0.3 - 0.1 = 0.2 = True\\n'"
      ]
     },
     "execution_count": 7,
     "metadata": {},
     "output_type": "execute_result"
    }
   ],
   "source": [
    "\"\"\"\n",
    "Q1:\n",
    "\n",
    "  \n",
    "P(A) + P(B) - P(AnB) = 0.8 \n",
    "\n",
    "Neither of the equasions match the ansver in Q1, therefore it't is False\n",
    "\n",
    "\n",
    "\n",
    "Q2:\n",
    "\n",
    "P(A)-(AnB) = 0.3 - 0.1 = 0.2 \n",
    "\n",
    "Q2 is True\n",
    "\n",
    "\n",
    "Q3:\n",
    "\n",
    "P(B U not B) = 1\n",
    "therefore P(A)= 0.3 \n",
    "\n",
    "\n",
    "is != 0.4 \n",
    "Q3 is  False\n",
    "\n",
    "\n",
    "Q4: \n",
    "\n",
    "1-A-B+(AnB) = 0.2 therefore Q4 is False\n",
    "\n",
    "\n",
    "Q4:\n",
    "\n",
    "1-0.1 = 0.9 \n",
    "True\n",
    "\n",
    "\"\"\""
   ]
  },
  {
   "cell_type": "markdown",
   "metadata": {},
   "source": [
    "## Challenge 2\n",
    "There is a box with 10 white balls, 12 red balls and 8 black balls. Calculate the probability of:\n",
    "* Taking a white ball out.\n",
    "* Taking a white ball out after taking a black ball out.\n",
    "* Taking a red ball out after taking a black and a red ball out.\n",
    "* Taking a red ball out after taking a black and a red ball out with reposition.\n",
    "\n",
    "**Hint**: Reposition means putting back the ball into the box after taking it out."
   ]
  },
  {
   "cell_type": "code",
   "execution_count": null,
   "metadata": {},
   "outputs": [],
   "source": [
    "\"\"\"\n",
    "10w+12r+8b = 30\n",
    "\n",
    "Taking a white ball out:\n",
    "10/30 = 33.33%\n",
    "\n",
    "\n",
    "Taking a white ball out after taking a black ball out:\n",
    "(8/30) * (10/29) =  \n",
    "0.266 * 0.345 = 0.09 = 9%\n",
    "\n",
    "Taking a red ball out after taking a black and a red ball out:\n",
    "\n",
    "\n",
    "    B  *    R    *    R\n",
    "(8/30) * (12/29) * (11/28)\n",
    "0.266 * 0.413 * 0.392 = 0.043 = 4,3%\n",
    "\n",
    "   R    *    B   *    R\n",
    "(12/30) * (8/29) * (11/28)\n",
    "0,4*0,275*0.392= 0.043 = 4,3%\n",
    "\n",
    "2* 4.3% =8.6%\n",
    "\n",
    "Taking a red ball out after taking a black and a red ball out with reposition:\n",
    "(8/30) * (12/30) * (12/30)\n",
    "0.266*0.4*0.4 = 0.042 * 2 = 0.085 = 8.5%\n",
    "\n",
    "\n",
    "\"\"\""
   ]
  },
  {
   "cell_type": "markdown",
   "metadata": {},
   "source": [
    "## Challenge 3\n",
    "\n",
    "You are planning to go on a picnic today but the morning is cloudy. You hate rain so you don't know whether to go out or stay home! To help you make a decision, you gather the following data about rainy days:\n",
    "\n",
    "* Knowing that it is a rainy day, the probability of cloudy is 50%!\n",
    "* The probability of any day (rainy or not) starting off cloudy is 40%. \n",
    "* This month is usually dry so only 3 of 30 days (10%) tend to be rainy. \n",
    "\n",
    "What is the probability of rain, given the day started cloudy?"
   ]
  },
  {
   "cell_type": "code",
   "execution_count": 3,
   "metadata": {},
   "outputs": [],
   "source": [
    "\"\"\"\n",
    "P(cloudy on rainy day) = (15/30) = 0.5\n",
    "\n",
    "P = (cloudy)(12/30) = 0.4\n",
    "\n",
    "P(rainy) = (3/30) - 0.1\n",
    "\n",
    "\n",
    "(0.5*0.1) / 0.4 = 0.125 = 12,5%\n",
    "\"\"\"\n",
    "\n",
    "P(rainy | cloudy) = P(rainy n cloudy)/P(cloudy) = (P(cloudy | rainy) * P(rainny))/P(cloudy)\n"
   ]
  },
  {
   "cell_type": "markdown",
   "metadata": {},
   "source": [
    "## Challenge 4\n",
    "\n",
    "One thousand people were asked through a telephone survey whether they thought more street lighting is needed at night or not.\n",
    "\n",
    "Out of the 480 men that answered the survey, 324 said yes and 156 said no. On the other hand, out of the 520 women that answered, 351 said yes and 169 said no. \n",
    "\n",
    "We wonder if men and women have a different opinions about the street lighting matter. Is gender relevant or irrelevant to the question?\n",
    "\n",
    "Consider the following events:\n",
    "- The answer is yes, so the person that answered thinks that more street lighting is needed.\n",
    "- The person who answered is a man.\n",
    "\n",
    "We want to know if these events are independent, that is, if the fact of wanting more light depends on whether one is male or female. Are these events independent or not?\n",
    "\n",
    "**Hint**: To clearly compare the answers by gender, it is best to place the data in a table."
   ]
  },
  {
   "cell_type": "code",
   "execution_count": 10,
   "metadata": {},
   "outputs": [
    {
     "data": {
      "text/html": [
       "<div>\n",
       "<style scoped>\n",
       "    .dataframe tbody tr th:only-of-type {\n",
       "        vertical-align: middle;\n",
       "    }\n",
       "\n",
       "    .dataframe tbody tr th {\n",
       "        vertical-align: top;\n",
       "    }\n",
       "\n",
       "    .dataframe thead th {\n",
       "        text-align: right;\n",
       "    }\n",
       "</style>\n",
       "<table border=\"1\" class=\"dataframe\">\n",
       "  <thead>\n",
       "    <tr style=\"text-align: right;\">\n",
       "      <th></th>\n",
       "      <th>Gender</th>\n",
       "      <th>YES</th>\n",
       "      <th>NO</th>\n",
       "      <th>Total</th>\n",
       "    </tr>\n",
       "  </thead>\n",
       "  <tbody>\n",
       "    <tr>\n",
       "      <th>0</th>\n",
       "      <td>MALE</td>\n",
       "      <td>324</td>\n",
       "      <td>156</td>\n",
       "      <td>480</td>\n",
       "    </tr>\n",
       "    <tr>\n",
       "      <th>1</th>\n",
       "      <td>FEMALE</td>\n",
       "      <td>351</td>\n",
       "      <td>169</td>\n",
       "      <td>520</td>\n",
       "    </tr>\n",
       "    <tr>\n",
       "      <th>2</th>\n",
       "      <td>Total</td>\n",
       "      <td>675</td>\n",
       "      <td>325</td>\n",
       "      <td>1000</td>\n",
       "    </tr>\n",
       "  </tbody>\n",
       "</table>\n",
       "</div>"
      ],
      "text/plain": [
       "   Gender  YES   NO  Total\n",
       "0    MALE  324  156    480\n",
       "1  FEMALE  351  169    520\n",
       "2   Total  675  325   1000"
      ]
     },
     "execution_count": 10,
     "metadata": {},
     "output_type": "execute_result"
    }
   ],
   "source": [
    "import pandas as pd\n",
    "\n",
    "df = pd.read_excel('Challenge4.xlsx')\n",
    "df"
   ]
  },
  {
   "cell_type": "code",
   "execution_count": 5,
   "metadata": {},
   "outputs": [
    {
     "data": {
      "text/plain": [
       "'\\nyour solution here\\n'"
      ]
     },
     "execution_count": 5,
     "metadata": {},
     "output_type": "execute_result"
    }
   ],
   "source": [
    "\"\"\"\n",
    "P(man n yes) = P(man) · P(yes) if this equation is true, two events are independent\n",
    "P(yes) = (324+351)/1000 = 67.5%\n",
    "P(man) = (324+156)/1000 = 48%\n",
    "P(man n yes) = 324/1000 = 32.4%\n",
    "I have the elements to verify the equation above:\n",
    "32.4% = (67.5% * 48%)\n",
    "32.4% = 32.4%\n",
    "equation is true so the two events are independent\n",
    "\"\"\""
   ]
  }
 ],
 "metadata": {
  "kernelspec": {
   "display_name": "Python 3",
   "language": "python",
   "name": "python3"
  },
  "language_info": {
   "codemirror_mode": {
    "name": "ipython",
    "version": 3
   },
   "file_extension": ".py",
   "mimetype": "text/x-python",
   "name": "python",
   "nbconvert_exporter": "python",
   "pygments_lexer": "ipython3",
   "version": "3.8.3"
  }
 },
 "nbformat": 4,
 "nbformat_minor": 4
}
